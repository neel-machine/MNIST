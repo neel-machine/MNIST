{
  "nbformat": 4,
  "nbformat_minor": 0,
  "metadata": {
    "colab": {
      "provenance": []
    },
    "kernelspec": {
      "name": "python3",
      "display_name": "Python 3"
    },
    "language_info": {
      "name": "python"
    }
  },
  "cells": [
    {
      "cell_type": "markdown",
      "source": [
        "In this notebook , I have used MNIST data to identify the handwritten numbers using CNN. \n"
      ],
      "metadata": {
        "id": "_goi7u3wjEqw"
      }
    },
    {
      "cell_type": "code",
      "execution_count": 6,
      "metadata": {
        "id": "vyxA5lXjmeV-"
      },
      "outputs": [],
      "source": [
        "import tensorflow as tf\n",
        "from tensorflow.keras import Sequential\n",
        "from tensorflow.keras.datasets import mnist\n",
        "from tensorflow.keras.layers import Dropout, Dense,Conv2D,MaxPooling2D,Flatten"
      ]
    },
    {
      "cell_type": "code",
      "source": [
        "(x_train,y_train),(x_test,y_test) = mnist.load_data()"
      ],
      "metadata": {
        "id": "Aoy6VjHXmnZj"
      },
      "execution_count": 7,
      "outputs": []
    },
    {
      "cell_type": "code",
      "source": [],
      "metadata": {
        "id": "goLFuR9YJXs0"
      },
      "execution_count": 7,
      "outputs": []
    },
    {
      "cell_type": "code",
      "source": [
        "x_train.shape"
      ],
      "metadata": {
        "colab": {
          "base_uri": "https://localhost:8080/"
        },
        "id": "3ohH1F7KnX-R",
        "outputId": "f228cdb0-e115-4488-9e1e-2ffc9f10bf75"
      },
      "execution_count": 8,
      "outputs": [
        {
          "output_type": "execute_result",
          "data": {
            "text/plain": [
              "(60000, 28, 28)"
            ]
          },
          "metadata": {},
          "execution_count": 8
        }
      ]
    },
    {
      "cell_type": "code",
      "source": [
        "y_train.shape"
      ],
      "metadata": {
        "colab": {
          "base_uri": "https://localhost:8080/"
        },
        "id": "kXkE1t15oZNS",
        "outputId": "8296129c-2fbe-43ae-858e-cd46883f287f"
      },
      "execution_count": 9,
      "outputs": [
        {
          "output_type": "execute_result",
          "data": {
            "text/plain": [
              "(60000,)"
            ]
          },
          "metadata": {},
          "execution_count": 9
        }
      ]
    },
    {
      "cell_type": "code",
      "source": [
        "x_train = x_train.reshape(x_train.shape[0],28,28,1)\n",
        "x_test = x_test.reshape(x_test.shape[0],28,28,1)"
      ],
      "metadata": {
        "id": "xRnkaaqOocrG"
      },
      "execution_count": 10,
      "outputs": []
    },
    {
      "cell_type": "code",
      "source": [
        "num_classes = 10"
      ],
      "metadata": {
        "id": "5NIQEqVCyesg"
      },
      "execution_count": 11,
      "outputs": []
    },
    {
      "cell_type": "code",
      "source": [
        "y_train = tf.keras.utils.to_categorical(y_train,num_classes)\n",
        "y_test = tf.keras.utils.to_categorical(y_test,num_classes)\n",
        "print(y_train.shape)"
      ],
      "metadata": {
        "colab": {
          "base_uri": "https://localhost:8080/"
        },
        "id": "vPQa2Bh0xaBW",
        "outputId": "7f70dccc-2304-4413-d5bd-883f1821b997"
      },
      "execution_count": 12,
      "outputs": [
        {
          "output_type": "stream",
          "name": "stdout",
          "text": [
            "(60000, 10)\n"
          ]
        }
      ]
    },
    {
      "cell_type": "markdown",
      "source": [
        "The values needs to be normalised before feeding then into a neural network since a NN minimises the loss by adjusting weights through backpropagation.During this process if values are not in one scale the NN will vary the weights too much or too less because of the disparity in the values."
      ],
      "metadata": {
        "id": "b5ITdNcFm24J"
      }
    },
    {
      "cell_type": "code",
      "source": [
        "x_train = x_train.astype('float64')\n",
        "x_test = x_test.astype('float64')\n",
        "\n",
        "x_train /= 255\n",
        "x_test /= 255"
      ],
      "metadata": {
        "id": "7Nygx9kIy-Yj"
      },
      "execution_count": 13,
      "outputs": []
    },
    {
      "cell_type": "code",
      "source": [
        "from tensorflow.python.framework.func_graph import flatten\n",
        "model = Sequential()\n",
        "model.add(Conv2D(32,kernel_size=(3,3),activation='relu',input_shape=(28,28,1)))\n",
        "model.add(MaxPooling2D(pool_size=(2,2)))\n",
        "\n",
        "#model.add(Dropout(0.25))\n",
        "\n",
        "model.add(Flatten())\n",
        "model.add(Dense(128,activation='relu'))\n",
        "model.add(Dense(10,activation='softmax'))\n",
        "model.summary()"
      ],
      "metadata": {
        "colab": {
          "base_uri": "https://localhost:8080/"
        },
        "id": "dG90ScU6y-VE",
        "outputId": "2e3b12dd-9c02-46f5-bcc5-4e4e2d5d1869"
      },
      "execution_count": 14,
      "outputs": [
        {
          "output_type": "stream",
          "name": "stdout",
          "text": [
            "Model: \"sequential\"\n",
            "_________________________________________________________________\n",
            " Layer (type)                Output Shape              Param #   \n",
            "=================================================================\n",
            " conv2d (Conv2D)             (None, 26, 26, 32)        320       \n",
            "                                                                 \n",
            " max_pooling2d (MaxPooling2D  (None, 13, 13, 32)       0         \n",
            " )                                                               \n",
            "                                                                 \n",
            " flatten (Flatten)           (None, 5408)              0         \n",
            "                                                                 \n",
            " dense (Dense)               (None, 128)               692352    \n",
            "                                                                 \n",
            " dense_1 (Dense)             (None, 10)                1290      \n",
            "                                                                 \n",
            "=================================================================\n",
            "Total params: 693,962\n",
            "Trainable params: 693,962\n",
            "Non-trainable params: 0\n",
            "_________________________________________________________________\n"
          ]
        }
      ]
    },
    {
      "cell_type": "code",
      "source": [
        "model.compile(optimizer=tf.keras.optimizers.Adadelta(),loss=tf.keras.losses.categorical_crossentropy,metrics=['accuracy'])"
      ],
      "metadata": {
        "id": "fgvRMCN0y-S2"
      },
      "execution_count": 15,
      "outputs": []
    },
    {
      "cell_type": "code",
      "source": [
        "from sklearn.model_selection import KFold\n",
        "from sklearn.model_selection import cross_val_score\n"
      ],
      "metadata": {
        "id": "PlDuF4y0xiHA"
      },
      "execution_count": 17,
      "outputs": []
    },
    {
      "cell_type": "code",
      "source": [],
      "metadata": {
        "id": "GAG09AU-xh7E"
      },
      "execution_count": null,
      "outputs": []
    },
    {
      "cell_type": "code",
      "source": [
        "model.fit(x_train,y_train,batch_size=128,epochs=10,verbose=1,validation_data=(x_test,y_test))"
      ],
      "metadata": {
        "colab": {
          "base_uri": "https://localhost:8080/"
        },
        "id": "idjWnm-xy-QK",
        "outputId": "e84ccd82-f38d-427a-8d98-a9e0c95c9d07"
      },
      "execution_count": 25,
      "outputs": [
        {
          "output_type": "stream",
          "name": "stdout",
          "text": [
            "Epoch 1/10\n",
            "469/469 [==============================] - 28s 58ms/step - loss: 2.2685 - accuracy: 0.1751 - val_loss: 2.2363 - val_accuracy: 0.2895\n",
            "Epoch 2/10\n",
            "469/469 [==============================] - 27s 58ms/step - loss: 2.2041 - accuracy: 0.3920 - val_loss: 2.1666 - val_accuracy: 0.4705\n",
            "Epoch 3/10\n",
            "469/469 [==============================] - 30s 64ms/step - loss: 2.1296 - accuracy: 0.5084 - val_loss: 2.0841 - val_accuracy: 0.5465\n",
            "Epoch 4/10\n",
            "469/469 [==============================] - 27s 58ms/step - loss: 2.0409 - accuracy: 0.5682 - val_loss: 1.9864 - val_accuracy: 0.6021\n",
            "Epoch 5/10\n",
            "469/469 [==============================] - 28s 59ms/step - loss: 1.9380 - accuracy: 0.6189 - val_loss: 1.8750 - val_accuracy: 0.6497\n",
            "Epoch 6/10\n",
            "469/469 [==============================] - 28s 59ms/step - loss: 1.8219 - accuracy: 0.6631 - val_loss: 1.7510 - val_accuracy: 0.6932\n",
            "Epoch 7/10\n",
            "469/469 [==============================] - 28s 59ms/step - loss: 1.6949 - accuracy: 0.7032 - val_loss: 1.6176 - val_accuracy: 0.7292\n",
            "Epoch 8/10\n",
            "469/469 [==============================] - 27s 59ms/step - loss: 1.5616 - accuracy: 0.7362 - val_loss: 1.4814 - val_accuracy: 0.7590\n",
            "Epoch 9/10\n",
            "469/469 [==============================] - 27s 58ms/step - loss: 1.4287 - accuracy: 0.7631 - val_loss: 1.3482 - val_accuracy: 0.7793\n",
            "Epoch 10/10\n",
            "469/469 [==============================] - 27s 59ms/step - loss: 1.3009 - accuracy: 0.7836 - val_loss: 1.2231 - val_accuracy: 0.7983\n"
          ]
        },
        {
          "output_type": "execute_result",
          "data": {
            "text/plain": [
              "<keras.callbacks.History at 0x7f7d3ff5a5e0>"
            ]
          },
          "metadata": {},
          "execution_count": 25
        }
      ]
    },
    {
      "cell_type": "code",
      "source": [
        "model.evaluate(x_test,y_test)"
      ],
      "metadata": {
        "colab": {
          "base_uri": "https://localhost:8080/"
        },
        "id": "ziQBgyhDH4M-",
        "outputId": "f56bad2b-eacf-496e-f2c1-7187fca1071d"
      },
      "execution_count": 26,
      "outputs": [
        {
          "output_type": "stream",
          "name": "stdout",
          "text": [
            "313/313 [==============================] - 2s 5ms/step - loss: 1.2231 - accuracy: 0.7983\n"
          ]
        },
        {
          "output_type": "execute_result",
          "data": {
            "text/plain": [
              "[1.2230992317199707, 0.79830002784729]"
            ]
          },
          "metadata": {},
          "execution_count": 26
        }
      ]
    },
    {
      "cell_type": "code",
      "source": [
        "print(model.metrics_names)"
      ],
      "metadata": {
        "colab": {
          "base_uri": "https://localhost:8080/"
        },
        "id": "ABRMRBMBIvqB",
        "outputId": "1b9aeb5d-531a-4cd7-ad63-6ddc8298de66"
      },
      "execution_count": 28,
      "outputs": [
        {
          "output_type": "stream",
          "name": "stdout",
          "text": [
            "['loss', 'accuracy']\n"
          ]
        }
      ]
    },
    {
      "cell_type": "code",
      "source": [],
      "metadata": {
        "id": "LoW-jSyoI1H0"
      },
      "execution_count": null,
      "outputs": []
    }
  ]
}